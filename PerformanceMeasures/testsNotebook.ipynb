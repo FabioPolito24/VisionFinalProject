{
 "cells": [
  {
   "cell_type": "code",
   "execution_count": 1,
   "metadata": {},
   "outputs": [],
   "source": [
    "import pandas as pd"
   ]
  },
  {
   "cell_type": "code",
   "execution_count": 2,
   "metadata": {},
   "outputs": [],
   "source": [
    "df = pd.read_csv('frame_20.txt', sep=' ', header=None)"
   ]
  },
  {
   "cell_type": "code",
   "execution_count": 3,
   "metadata": {},
   "outputs": [
    {
     "data": {
      "text/html": [
       "<div>\n",
       "<style scoped>\n",
       "    .dataframe tbody tr th:only-of-type {\n",
       "        vertical-align: middle;\n",
       "    }\n",
       "\n",
       "    .dataframe tbody tr th {\n",
       "        vertical-align: top;\n",
       "    }\n",
       "\n",
       "    .dataframe thead th {\n",
       "        text-align: right;\n",
       "    }\n",
       "</style>\n",
       "<table border=\"1\" class=\"dataframe\">\n",
       "  <thead>\n",
       "    <tr style=\"text-align: right;\">\n",
       "      <th></th>\n",
       "      <th>0</th>\n",
       "      <th>1</th>\n",
       "      <th>2</th>\n",
       "      <th>3</th>\n",
       "      <th>4</th>\n",
       "    </tr>\n",
       "  </thead>\n",
       "  <tbody>\n",
       "    <tr>\n",
       "      <th>0</th>\n",
       "      <td>0</td>\n",
       "      <td>0.878906</td>\n",
       "      <td>0.422917</td>\n",
       "      <td>0.242188</td>\n",
       "      <td>0.576389</td>\n",
       "    </tr>\n",
       "    <tr>\n",
       "      <th>1</th>\n",
       "      <td>1</td>\n",
       "      <td>0.550781</td>\n",
       "      <td>0.404861</td>\n",
       "      <td>0.335938</td>\n",
       "      <td>0.548611</td>\n",
       "    </tr>\n",
       "    <tr>\n",
       "      <th>2</th>\n",
       "      <td>2</td>\n",
       "      <td>0.117578</td>\n",
       "      <td>0.500000</td>\n",
       "      <td>0.235156</td>\n",
       "      <td>1.000000</td>\n",
       "    </tr>\n",
       "    <tr>\n",
       "      <th>3</th>\n",
       "      <td>0</td>\n",
       "      <td>0.882422</td>\n",
       "      <td>0.399306</td>\n",
       "      <td>0.235156</td>\n",
       "      <td>0.531944</td>\n",
       "    </tr>\n",
       "    <tr>\n",
       "      <th>4</th>\n",
       "      <td>1</td>\n",
       "      <td>0.552344</td>\n",
       "      <td>0.388194</td>\n",
       "      <td>0.331250</td>\n",
       "      <td>0.501389</td>\n",
       "    </tr>\n",
       "    <tr>\n",
       "      <th>5</th>\n",
       "      <td>2</td>\n",
       "      <td>0.116797</td>\n",
       "      <td>0.498611</td>\n",
       "      <td>0.230469</td>\n",
       "      <td>0.994444</td>\n",
       "    </tr>\n",
       "  </tbody>\n",
       "</table>\n",
       "</div>"
      ],
      "text/plain": [
       "   0         1         2         3         4\n",
       "0  0  0.878906  0.422917  0.242188  0.576389\n",
       "1  1  0.550781  0.404861  0.335938  0.548611\n",
       "2  2  0.117578  0.500000  0.235156  1.000000\n",
       "3  0  0.882422  0.399306  0.235156  0.531944\n",
       "4  1  0.552344  0.388194  0.331250  0.501389\n",
       "5  2  0.116797  0.498611  0.230469  0.994444"
      ]
     },
     "execution_count": 3,
     "metadata": {},
     "output_type": "execute_result"
    }
   ],
   "source": [
    "df"
   ]
  },
  {
   "cell_type": "code",
   "execution_count": 4,
   "metadata": {},
   "outputs": [],
   "source": [
    "df.columns = [\"id\", \"x\", \"y\", \"width\", \"height\"]"
   ]
  },
  {
   "cell_type": "code",
   "execution_count": 6,
   "metadata": {},
   "outputs": [],
   "source": [
    "frameW = 1280\n",
    "frameH = 720"
   ]
  },
  {
   "cell_type": "code",
   "execution_count": 9,
   "metadata": {},
   "outputs": [],
   "source": [
    "ids = df.loc[df['id'] == 0]"
   ]
  },
  {
   "cell_type": "code",
   "execution_count": 25,
   "metadata": {},
   "outputs": [],
   "source": [
    "def IoU(bb1, bb2, frameW, frameH):\n",
    "    x1 = bb1['x'] * frameW\n",
    "    y1 = bb1['y'] * frameH\n",
    "    x2 = bb2['x'] * frameW\n",
    "    y2 = bb2['y'] * frameH\n",
    "    w1 = bb1['width'] * frameW\n",
    "    h1 = bb1['height'] * frameH\n",
    "    w2 = bb2['width'] * frameW\n",
    "    h2 = bb2['height'] * frameH\n",
    "    total_area = w1 * h1 + w2 * h2\n",
    "    # determine the (x, y)-coordinates of the intersection rectangle\n",
    "    xA = max(x1, x2)\n",
    "    yA = max(y1, y2)\n",
    "    xB = min(x1 + w1, x2 + w2)\n",
    "    yB = min(y1 + h1, y2 + h2)\n",
    "    # compute the area of intersection rectangle\n",
    "    interArea = max(0, xB - xA) * max(0, yB - yA)\n",
    "    # compute the total area covered\n",
    "    boxArea = total_area - interArea\n",
    "    # compute the intersection over union\n",
    "    iou = interArea / float(boxArea)\n",
    "    return iou"
   ]
  },
  {
   "cell_type": "code",
   "execution_count": 45,
   "metadata": {},
   "outputs": [
    {
     "data": {
      "text/plain": [
       "x         0.140625\n",
       "y         0.500000\n",
       "width     0.281250\n",
       "height    1.000000\n",
       "Name: 2, dtype: float64"
      ]
     },
     "execution_count": 45,
     "metadata": {},
     "output_type": "execute_result"
    }
   ],
   "source": [
    "bb1 = ids.iloc[0].drop('id')\n",
    "bb1"
   ]
  },
  {
   "cell_type": "code",
   "execution_count": 15,
   "metadata": {},
   "outputs": [],
   "source": [
    "bb2 = ids.iloc[1].drop('id')\n",
    "bb2"
   ]
  },
  {
   "cell_type": "code",
   "execution_count": 46,
   "metadata": {},
   "outputs": [
    {
     "data": {
      "text/plain": [
       "0.8685870212240058"
      ]
     },
     "execution_count": 46,
     "metadata": {},
     "output_type": "execute_result"
    }
   ],
   "source": [
    "IoU(bb1, bb2, 1280, 720)"
   ]
  },
  {
   "cell_type": "code",
   "execution_count": 23,
   "metadata": {},
   "outputs": [
    {
     "data": {
      "text/plain": [
       "2"
      ]
     },
     "execution_count": 23,
     "metadata": {},
     "output_type": "execute_result"
    }
   ],
   "source": [
    "df['id'].max()"
   ]
  },
  {
   "cell_type": "code",
   "execution_count": 28,
   "metadata": {},
   "outputs": [
    {
     "name": "stdout",
     "output_type": "stream",
     "text": [
      "0.8235633286895309\n",
      "0.8458748890734938\n",
      "0.9654653039706026\n"
     ]
    }
   ],
   "source": [
    "for i in range(df['id'].max() + 1):\n",
    "    ids = df.loc[df['id'] == i]\n",
    "    bb1 = ids.iloc[0].drop('id')\n",
    "    bb2 = ids.iloc[1].drop('id')\n",
    "    print(IoU(bb1, bb2, frameW, frameH))"
   ]
  },
  {
   "cell_type": "code",
   "execution_count": 31,
   "metadata": {},
   "outputs": [],
   "source": [
    "import glob"
   ]
  },
  {
   "cell_type": "code",
   "execution_count": 47,
   "metadata": {},
   "outputs": [
    {
     "data": {
      "text/plain": [
       "['vid12\\\\frame_000.txt',\n",
       " 'vid12\\\\frame_100.txt',\n",
       " 'vid12\\\\frame_200.txt',\n",
       " 'vid12\\\\frame_300.txt',\n",
       " 'vid12\\\\frame_400.txt',\n",
       " 'vid12\\\\frame_500.txt',\n",
       " 'vid12\\\\frame_600.txt',\n",
       " 'vid12\\\\frame_700.txt',\n",
       " 'vid12\\\\frame_800.txt']"
      ]
     },
     "execution_count": 47,
     "metadata": {},
     "output_type": "execute_result"
    }
   ],
   "source": [
    "files = glob.glob(\"vid12/*.txt\")\n",
    "files"
   ]
  },
  {
   "cell_type": "code",
   "execution_count": 34,
   "metadata": {},
   "outputs": [],
   "source": [
    "iou_list = []\n",
    "fp = 0\n",
    "fn = 0"
   ]
  },
  {
   "cell_type": "code",
   "execution_count": 35,
   "metadata": {},
   "outputs": [],
   "source": [
    "for file in files:\n",
    "    df = pd.read_csv(file, sep=' ', header=None)\n",
    "    df.columns = [\"id\", \"x\", \"y\", \"width\", \"height\"]\n",
    "\n",
    "    for i in range(df['id'].max() + 1):\n",
    "        ids = df.loc[df['id'] == i]\n",
    "        if len(ids) == 2:\n",
    "            bb1 = ids.iloc[0].drop('id')\n",
    "            bb2 = ids.iloc[1].drop('id')\n",
    "            iou_list.append(IoU(bb1, bb2, frameW, frameH))\n",
    "        else:\n",
    "            fp += 1"
   ]
  },
  {
   "cell_type": "code",
   "execution_count": 37,
   "metadata": {},
   "outputs": [],
   "source": [
    "import numpy as np"
   ]
  },
  {
   "cell_type": "code",
   "execution_count": 38,
   "metadata": {},
   "outputs": [
    {
     "data": {
      "text/plain": [
       "0.8147501200102073"
      ]
     },
     "execution_count": 38,
     "metadata": {},
     "output_type": "execute_result"
    }
   ],
   "source": [
    "np.mean(iou_list)"
   ]
  },
  {
   "cell_type": "code",
   "execution_count": 39,
   "metadata": {},
   "outputs": [
    {
     "data": {
      "text/html": [
       "<div>\n",
       "<style scoped>\n",
       "    .dataframe tbody tr th:only-of-type {\n",
       "        vertical-align: middle;\n",
       "    }\n",
       "\n",
       "    .dataframe tbody tr th {\n",
       "        vertical-align: top;\n",
       "    }\n",
       "\n",
       "    .dataframe thead th {\n",
       "        text-align: right;\n",
       "    }\n",
       "</style>\n",
       "<table border=\"1\" class=\"dataframe\">\n",
       "  <thead>\n",
       "    <tr style=\"text-align: right;\">\n",
       "      <th></th>\n",
       "      <th>id</th>\n",
       "      <th>x</th>\n",
       "      <th>y</th>\n",
       "      <th>width</th>\n",
       "      <th>height</th>\n",
       "    </tr>\n",
       "  </thead>\n",
       "  <tbody>\n",
       "    <tr>\n",
       "      <th>0</th>\n",
       "      <td>0</td>\n",
       "      <td>0.585938</td>\n",
       "      <td>0.475000</td>\n",
       "      <td>0.310937</td>\n",
       "      <td>0.508333</td>\n",
       "    </tr>\n",
       "    <tr>\n",
       "      <th>1</th>\n",
       "      <td>1</td>\n",
       "      <td>0.886719</td>\n",
       "      <td>0.467361</td>\n",
       "      <td>0.226562</td>\n",
       "      <td>0.534722</td>\n",
       "    </tr>\n",
       "    <tr>\n",
       "      <th>2</th>\n",
       "      <td>2</td>\n",
       "      <td>0.140625</td>\n",
       "      <td>0.500000</td>\n",
       "      <td>0.281250</td>\n",
       "      <td>1.000000</td>\n",
       "    </tr>\n",
       "    <tr>\n",
       "      <th>3</th>\n",
       "      <td>0</td>\n",
       "      <td>0.587500</td>\n",
       "      <td>0.455556</td>\n",
       "      <td>0.309375</td>\n",
       "      <td>0.469444</td>\n",
       "    </tr>\n",
       "    <tr>\n",
       "      <th>4</th>\n",
       "      <td>1</td>\n",
       "      <td>0.892578</td>\n",
       "      <td>0.443056</td>\n",
       "      <td>0.214844</td>\n",
       "      <td>0.486111</td>\n",
       "    </tr>\n",
       "    <tr>\n",
       "      <th>5</th>\n",
       "      <td>2</td>\n",
       "      <td>0.150781</td>\n",
       "      <td>0.500694</td>\n",
       "      <td>0.301562</td>\n",
       "      <td>0.998611</td>\n",
       "    </tr>\n",
       "  </tbody>\n",
       "</table>\n",
       "</div>"
      ],
      "text/plain": [
       "   id         x         y     width    height\n",
       "0   0  0.585938  0.475000  0.310937  0.508333\n",
       "1   1  0.886719  0.467361  0.226562  0.534722\n",
       "2   2  0.140625  0.500000  0.281250  1.000000\n",
       "3   0  0.587500  0.455556  0.309375  0.469444\n",
       "4   1  0.892578  0.443056  0.214844  0.486111\n",
       "5   2  0.150781  0.500694  0.301562  0.998611"
      ]
     },
     "execution_count": 39,
     "metadata": {},
     "output_type": "execute_result"
    }
   ],
   "source": [
    "df"
   ]
  },
  {
   "cell_type": "code",
   "execution_count": 44,
   "metadata": {},
   "outputs": [
    {
     "data": {
      "text/plain": [
       "3"
      ]
     },
     "execution_count": 44,
     "metadata": {},
     "output_type": "execute_result"
    }
   ],
   "source": [
    "df.index[df['id'] == 0].tolist()[1]"
   ]
  },
  {
   "cell_type": "code",
   "execution_count": null,
   "metadata": {},
   "outputs": [],
   "source": []
  }
 ],
 "metadata": {
  "kernelspec": {
   "display_name": "Python 3",
   "language": "python",
   "name": "python3"
  },
  "language_info": {
   "codemirror_mode": {
    "name": "ipython",
    "version": 3
   },
   "file_extension": ".py",
   "mimetype": "text/x-python",
   "name": "python",
   "nbconvert_exporter": "python",
   "pygments_lexer": "ipython3",
   "version": "3.7.6"
  }
 },
 "nbformat": 4,
 "nbformat_minor": 4
}
